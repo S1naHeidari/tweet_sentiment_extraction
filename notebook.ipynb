{
 "cells": [
  {
   "cell_type": "markdown",
   "id": "9296c20c",
   "metadata": {},
   "source": [
    "# Importing Required Libraries"
   ]
  },
  {
   "cell_type": "code",
   "execution_count": null,
   "id": "fee2b2a8",
   "metadata": {},
   "outputs": [],
   "source": [
    "import re\n",
    "import string\n",
    "import numpy as np \n",
    "import random\n",
    "import pandas as pd \n",
    "import matplotlib.pyplot as plt\n",
    "import seaborn as sns\n",
    "%matplotlib inline\n",
    "from plotly import graph_objs as go\n",
    "import plotly.express as px\n",
    "import plotly.figure_factory as ff\n",
    "from collections import Counter\n",
    "\n",
    "from PIL import Image\n",
    "from wordcloud import WordCloud, STOPWORDS, ImageColorGenerator\n",
    "\n",
    "\n",
    "import nltk\n",
    "from nltk.corpus import stopwords\n",
    "\n",
    "from tqdm import tqdm\n",
    "import os\n",
    "import nltk\n",
    "import spacy\n",
    "import random\n",
    "from spacy.util import compounding\n",
    "from spacy.util import minibatch\n",
    "\n",
    "import warnings\n",
    "warnings.filterwarnings(\"ignore\")\n",
    "\n",
    "import os\n",
    "for dirname, _, filenames in os.walk('/kaggle/input'):\n",
    "\tfor filename in filenames:\n",
    "\t\tprint(os.path.join(dirname, filename))\n",
    "\n",
    "# Any results you write to the current directory are saved as output."
   ]
  },
  {
   "cell_type": "markdown",
   "id": "e986776e",
   "metadata": {},
   "source": [
    "# Exploratory Data Analysis"
   ]
  },
  {
   "cell_type": "markdown",
   "id": "8f5bed1e",
   "metadata": {},
   "source": [
    "## Distribution of Tweets Inside the Dataset"
   ]
  },
  {
   "cell_type": "code",
   "execution_count": null,
   "id": "fd9dcc4e",
   "metadata": {},
   "outputs": [],
   "source": [
    "temp = train.groupby('sentiment').count()['text'].reset_index().sort_values(by='text',ascending=False)\n",
    "temp.style.background_gradient(cmap='Purples')"
   ]
  },
  {
   "cell_type": "code",
   "execution_count": null,
   "id": "fac486d0",
   "metadata": {},
   "outputs": [],
   "source": [
    "plt.figure(figsize=(12,6))\n",
    "sns.countplot(x='sentiment',data=train)"
   ]
  },
  {
   "cell_type": "code",
   "execution_count": null,
   "id": "c48885b8",
   "metadata": {},
   "outputs": [],
   "source": [
    "fig = go.Figure(go.Funnelarea(\n",
    "text =temp.sentiment,\n",
    "values = temp.text,\n",
    "title = {\"position\": \"top center\", \"text\": \"Funnel-Chart of Sentiment Distribution\"}))\n",
    "fig.show()"
   ]
  },
  {
   "cell_type": "markdown",
   "id": "2e20b2fc",
   "metadata": {},
   "source": [
    "## The Function for the Jaccard Similarity Coefficient"
   ]
  },
  {
   "cell_type": "code",
   "execution_count": null,
   "id": "d901514f",
   "metadata": {},
   "outputs": [],
   "source": [
    "def jaccard(str1, str2): \n",
    "a = set(str1.lower().split()) \n",
    "b = set(str2.lower().split())\n",
    "c = a.intersection(b)\n",
    "return float(len(c)) / (len(a) + len(b) - len(c))"
   ]
  },
  {
   "cell_type": "code",
   "execution_count": null,
   "id": "03d1d325",
   "metadata": {},
   "outputs": [],
   "source": [
    "results_jaccard=[]\n",
    "\n",
    "for ind,row in train.iterrows():\n",
    "    sentence1 = row.text\n",
    "    sentence2 = row.selected_text\n",
    "\n",
    "    jaccard_score = jaccard(sentence1,sentence2)\n",
    "    results_jaccard.append([sentence1,sentence2,jaccard_score])"
   ]
  },
  {
   "cell_type": "code",
   "execution_count": null,
   "id": "46dca9ea",
   "metadata": {},
   "outputs": [],
   "source": [
    "jaccard = pd.DataFrame(results_jaccard,columns=[\"text\",\"selected_text\",\"jaccard_score\"])\n",
    "train = train.merge(jaccard,how='outer')"
   ]
  },
  {
   "cell_type": "code",
   "execution_count": null,
   "id": "89ee62e9",
   "metadata": {},
   "outputs": [],
   "source": [
    "train['Num_words_ST'] = train['selected_text'].apply(lambda x:len(str(x).split())) #Number Of words in Selected Text\n",
    "train['Num_word_text'] = train['text'].apply(lambda x:len(str(x).split())) #Number Of words in main text\n",
    "train['difference_in_words'] = train['Num_word_text'] - train['Num_words_ST'] #Difference in Number of words text and Selected Text"
   ]
  },
  {
   "cell_type": "code",
   "execution_count": null,
   "id": "ecbcceb3",
   "metadata": {},
   "outputs": [],
   "source": [
    "hist_data = [train['Num_words_ST'],train['Num_word_text']]\n",
    "\n",
    "group_labels = ['Selected_Text', 'Text']\n",
    "\n",
    "# Create distplot with custom bin_size\n",
    "fig = ff.create_distplot(hist_data, group_labels,show_curve=False)\n",
    "fig.update_layout(title_text='Distribution of Number Of words')\n",
    "fig.update_layout(\n",
    "autosize=False,\n",
    "width=900,\n",
    "height=700,\n",
    "paper_bgcolor=\"LightSteelBlue\",\n",
    ")\n",
    "fig.show()"
   ]
  },
  {
   "cell_type": "code",
   "execution_count": null,
   "id": "066eeeff",
   "metadata": {},
   "outputs": [],
   "source": [
    "p1=sns.kdeplot(train['Num_words_ST'], shade=True, color=\"r\").set_title('Kernel Distribution of Number Of words')\n",
    "p1=sns.kdeplot(train['Num_word_text'], shade=True, color=\"b\")"
   ]
  },
  {
   "cell_type": "code",
   "execution_count": null,
   "id": "663f10a5",
   "metadata": {},
   "outputs": [],
   "source": [
    "plt.figure(figsize=(12,6))\n",
    "p1=sns.kdeplot(train[train['sentiment']=='positive']['difference_in_words'], shade=True, color=\"b\").set_title('Kernel Distribution of Difference in Number Of words')\n",
    "p2=sns.kdeplot(train[train['sentiment']=='negative']['difference_in_words'], shade=True, color=\"r\")"
   ]
  },
  {
   "cell_type": "code",
   "execution_count": null,
   "id": "7ab05fd7",
   "metadata": {},
   "outputs": [],
   "source": [
    "plt.figure(figsize=(12,6))\n",
    "sns.distplot(train[train['sentiment']=='neutral']['difference_in_words'],kde=False)"
   ]
  },
  {
   "cell_type": "code",
   "execution_count": null,
   "id": "76495935",
   "metadata": {},
   "outputs": [],
   "source": [
    "plt.figure(figsize=(12,6))\n",
    "p1=sns.kdeplot(train[train['sentiment']=='positive']['jaccard_score'], shade=True, color=\"b\").set_title('KDE of Jaccard Scores across different Sentiments')\n",
    "p2=sns.kdeplot(train[train['sentiment']=='negative']['jaccard_score'], shade=True, color=\"r\")\n",
    "plt.legend(labels=['positive','negative'])"
   ]
  },
  {
   "cell_type": "code",
   "execution_count": null,
   "id": "3e6fc8a9",
   "metadata": {},
   "outputs": [],
   "source": [
    "plt.figure(figsize=(12,6))\n",
    "sns.distplot(train[train['sentiment']=='neutral']['jaccard_score'],kde=False)"
   ]
  },
  {
   "cell_type": "code",
   "execution_count": null,
   "id": "87903a4f",
   "metadata": {},
   "outputs": [],
   "source": [
    "k = train[train['Num_word_text']<=2]\n",
    "k.groupby('sentiment').mean()['jaccard_score']"
   ]
  },
  {
   "cell_type": "code",
   "execution_count": null,
   "id": "985b7ec1",
   "metadata": {},
   "outputs": [],
   "source": [
    "k[k['sentiment']=='positive']"
   ]
  },
  {
   "cell_type": "markdown",
   "id": "9588ac3b",
   "metadata": {},
   "source": [
    "# Data Cleaning"
   ]
  },
  {
   "cell_type": "code",
   "execution_count": null,
   "id": "0dc3b40c",
   "metadata": {},
   "outputs": [],
   "source": [
    "def clean_text(text):\n",
    "    '''Make text lowercase, remove text in square brackets,remove links,remove punctuation\n",
    "    and remove words containing numbers.'''\n",
    "    text = str(text).lower()\n",
    "    text = re.sub('\\[.*?\\]', '', text)\n",
    "    text = re.sub('https?://\\S+|www\\.\\S+', '', text)\n",
    "    text = re.sub('<.*?>+', '', text)\n",
    "    text = re.sub('[%s]' % re.escape(string.punctuation), '', text)\n",
    "    text = re.sub('\\n', '', text)\n",
    "    text = re.sub('\\w*\\d\\w*', '', text)\n",
    "    return text"
   ]
  },
  {
   "cell_type": "code",
   "execution_count": null,
   "id": "4e1416f4",
   "metadata": {},
   "outputs": [],
   "source": [
    "train['text'] = train['text'].apply(lambda x:clean_text(x))\n",
    "train['selected_text'] = train['selected_text'].apply(lambda x:clean_text(x))"
   ]
  },
  {
   "cell_type": "code",
   "execution_count": null,
   "id": "e7dc8314",
   "metadata": {},
   "outputs": [],
   "source": [
    "train['temp_list'] = train['selected_text'].apply(lambda x:str(x).split())\n",
    "top = Counter([item for sublist in train['temp_list'] for item in sublist])\n",
    "temp = pd.DataFrame(top.most_common(20))\n",
    "temp.columns = ['Common_words','count']\n",
    "temp.style.background_gradient(cmap='Blues')"
   ]
  },
  {
   "cell_type": "code",
   "execution_count": null,
   "id": "c5dbcb5f",
   "metadata": {},
   "outputs": [],
   "source": [
    "def remove_stopword(x):\n",
    "    return [y for y in x if y not in stopwords.words('english')]\n",
    "train['temp_list'] = train['temp_list'].apply(lambda x:remove_stopword(x))"
   ]
  },
  {
   "cell_type": "code",
   "execution_count": null,
   "id": "6cb73835",
   "metadata": {},
   "outputs": [],
   "source": [
    "train['temp_list1'] = train['text'].apply(lambda x:str(x).split()) #List of words in every row for text\n",
    "train['temp_list1'] = train['temp_list1'].apply(lambda x:remove_stopword(x)) #Removing Stopwords"
   ]
  },
  {
   "cell_type": "code",
   "execution_count": null,
   "id": "3f747cb6",
   "metadata": {},
   "outputs": [],
   "source": [
    "top = Counter([item for sublist in train['temp_list1'] for item in sublist])\n",
    "temp = pd.DataFrame(top.most_common(25))\n",
    "temp = temp.iloc[1:,:]\n",
    "temp.columns = ['Common_words','count']\n",
    "temp.style.background_gradient(cmap='Blues')"
   ]
  },
  {
   "cell_type": "code",
   "execution_count": null,
   "id": "df876853",
   "metadata": {},
   "outputs": [],
   "source": [
    "Positive_sent = train[train['sentiment']=='positive']\n",
    "Negative_sent = train[train['sentiment']=='negative']\n",
    "Neutral_sent = train[train['sentiment']=='neutral']"
   ]
  },
  {
   "cell_type": "code",
   "execution_count": null,
   "id": "d2655608",
   "metadata": {},
   "outputs": [],
   "source": [
    "#MosT common positive words\n",
    "top = Counter([item for sublist in Positive_sent['temp_list'] for item in sublist])\n",
    "temp_positive = pd.DataFrame(top.most_common(20))\n",
    "temp_positive.columns = ['Common_words','count']\n",
    "temp_positive.style.background_gradient(cmap='Greens')"
   ]
  },
  {
   "cell_type": "code",
   "execution_count": null,
   "id": "168b025b",
   "metadata": {},
   "outputs": [],
   "source": [
    "#MosT common negative words\n",
    "top = Counter([item for sublist in Negative_sent['temp_list'] for item in sublist])\n",
    "temp_negative = pd.DataFrame(top.most_common(20))\n",
    "temp_negative = temp_negative.iloc[1:,:]\n",
    "temp_negative.columns = ['Common_words','count']\n",
    "temp_negative.style.background_gradient(cmap='Reds')"
   ]
  },
  {
   "cell_type": "code",
   "execution_count": null,
   "id": "d483522f",
   "metadata": {},
   "outputs": [],
   "source": [
    "#MosT common Neutral words\n",
    "top = Counter([item for sublist in Neutral_sent['temp_list'] for item in sublist])\n",
    "temp_neutral = pd.DataFrame(top.most_common(20))\n",
    "temp_neutral = temp_neutral.loc[1:,:]\n",
    "temp_neutral.columns = ['Common_words','count']\n",
    "temp_neutral.style.background_gradient(cmap='Reds')"
   ]
  },
  {
   "cell_type": "code",
   "execution_count": null,
   "id": "d8b6984f",
   "metadata": {},
   "outputs": [],
   "source": [
    "raw_text = [word for word_list in train['temp_list1'] for word in word_list]"
   ]
  },
  {
   "cell_type": "code",
   "execution_count": null,
   "id": "96140f61",
   "metadata": {},
   "outputs": [],
   "source": [
    "Unique_Positive= words_unique('positive', 20, raw_text)\n",
    "print(\"The top 20 unique words in Positive Tweets are:\")\n",
    "Unique_Positive.style.background_gradient(cmap='Greens')"
   ]
  },
  {
   "cell_type": "code",
   "execution_count": null,
   "id": "053cd5f4",
   "metadata": {},
   "outputs": [],
   "source": [
    "fig = px.treemap(Unique_Positive, path=['words'], values='count',title='Tree Of Unique Positive Words')\n",
    "fig.show()"
   ]
  },
  {
   "cell_type": "code",
   "execution_count": null,
   "id": "98945d41",
   "metadata": {},
   "outputs": [],
   "source": [
    "from palettable.colorbrewer.qualitative import Pastel1_7\n",
    "plt.figure(figsize=(16,10))\n",
    "my_circle=plt.Circle((0,0), 0.7, color='white')\n",
    "plt.pie(Unique_Positive['count'], labels=Unique_Positive.words, colors=Pastel1_7.hex_colors)\n",
    "p=plt.gcf()\n",
    "p.gca().add_artist(my_circle)\n",
    "plt.title('DoNut Plot Of Unique Positive Words')\n",
    "plt.show()"
   ]
  },
  {
   "cell_type": "code",
   "execution_count": null,
   "id": "58be29ee",
   "metadata": {},
   "outputs": [],
   "source": [
    "Unique_Negative= words_unique('negative', 10, raw_text)\n",
    "print(\"The top 10 unique words in Negative Tweets are:\")\n",
    "Unique_Negative.style.background_gradient(cmap='Reds')"
   ]
  },
  {
   "cell_type": "code",
   "execution_count": null,
   "id": "34942fad",
   "metadata": {},
   "outputs": [],
   "source": [
    "from palettable.colorbrewer.qualitative import Pastel1_7\n",
    "plt.figure(figsize=(16,10))\n",
    "my_circle=plt.Circle((0,0), 0.7, color='white')\n",
    "plt.rcParams['text.color'] = 'black'\n",
    "plt.pie(Unique_Negative['count'], labels=Unique_Negative.words, colors=Pastel1_7.hex_colors)\n",
    "p=plt.gcf()\n",
    "p.gca().add_artist(my_circle)\n",
    "plt.title('DoNut Plot Of Unique Negative Words')\n",
    "plt.show()"
   ]
  },
  {
   "cell_type": "code",
   "execution_count": null,
   "id": "2246aefb",
   "metadata": {},
   "outputs": [],
   "source": [
    "Unique_Neutral= words_unique('neutral', 10, raw_text)\n",
    "print(\"The top 10 unique words in Neutral Tweets are:\")\n",
    "Unique_Neutral.style.background_gradient(cmap='Oranges')"
   ]
  },
  {
   "cell_type": "code",
   "execution_count": null,
   "id": "4ab76f8d",
   "metadata": {},
   "outputs": [],
   "source": [
    "from palettable.colorbrewer.qualitative import Pastel1_7\n",
    "plt.figure(figsize=(16,10))\n",
    "my_circle=plt.Circle((0,0), 0.7, color='white')\n",
    "plt.pie(Unique_Neutral['count'], labels=Unique_Neutral.words, colors=Pastel1_7.hex_colors)\n",
    "p=plt.gcf()\n",
    "p.gca().add_artist(my_circle)\n",
    "plt.title('DoNut Plot Of Unique Neutral Words')\n",
    "plt.show()"
   ]
  },
  {
   "cell_type": "markdown",
   "id": "70974eb0",
   "metadata": {},
   "source": [
    "# Modeling the Problem as a Name Entity Recognition Problem"
   ]
  },
  {
   "cell_type": "code",
   "execution_count": null,
   "id": "654d7155",
   "metadata": {},
   "outputs": [],
   "source": [
    "df_train = pd.read_csv('/kaggle/input/tweet-sentiment-extraction/train.csv')\n",
    "df_test = pd.read_csv('/kaggle/input/tweet-sentiment-extraction/test.csv')\n",
    "df_submission = pd.read_csv('/kaggle/input/tweet-sentiment-extraction/sample_submission.csv')"
   ]
  },
  {
   "cell_type": "code",
   "execution_count": null,
   "id": "b226e1cc",
   "metadata": {},
   "outputs": [],
   "source": [
    "df_train['Num_words_text'] = df_train['text'].apply(lambda x:len(str(x).split())) #Number Of words in main Text in train set"
   ]
  },
  {
   "cell_type": "code",
   "execution_count": null,
   "id": "502b6709",
   "metadata": {},
   "outputs": [],
   "source": [
    "df_train = df_train[df_train['Num_words_text']>=3]"
   ]
  },
  {
   "cell_type": "code",
   "execution_count": null,
   "id": "bcded58f",
   "metadata": {},
   "outputs": [],
   "source": [
    "def save_model(output_dir, nlp, new_model_name):\n",
    "    ''' This Function Saves model to \n",
    "    given output directory'''\n",
    "\n",
    "    output_dir = f'../working/{output_dir}'\n",
    "    if output_dir is not None:        \n",
    "    if not os.path.exists(output_dir):\n",
    "    os.makedirs(output_dir)\n",
    "    nlp.meta[\"name\"] = new_model_name\n",
    "    nlp.to_disk(output_dir)\n",
    "    print(\"Saved model to\", output_dir)"
   ]
  },
  {
   "cell_type": "code",
   "execution_count": null,
   "id": "016775fa",
   "metadata": {},
   "outputs": [],
   "source": [
    "def get_model_out_path(sentiment):\n",
    "    '''\n",
    "    Returns Model output path\n",
    "    '''\n",
    "    model_out_path = None\n",
    "    if sentiment == 'positive':\n",
    "    model_out_path = 'models/model_pos'\n",
    "    elif sentiment == 'negative':\n",
    "    model_out_path = 'models/model_neg'\n",
    "    return model_out_path"
   ]
  },
  {
   "cell_type": "code",
   "execution_count": null,
   "id": "cada3ffd",
   "metadata": {},
   "outputs": [],
   "source": [
    "def get_training_data(sentiment):\n",
    "    '''\n",
    "    Returns Trainong data in the format needed to train spacy NER\n",
    "    '''\n",
    "    train_data = []\n",
    "    for index, row in df_train.iterrows():\n",
    "    if row.sentiment == sentiment:\n",
    "    selected_text = row.selected_text\n",
    "    text = row.text\n",
    "    start = text.find(selected_text)\n",
    "    end = start + len(selected_text)\n",
    "    train_data.append((text, {\"entities\": [[start, end, 'selected_text']]}))\n",
    "    return train_data"
   ]
  },
  {
   "cell_type": "code",
   "execution_count": null,
   "id": "4fcf11df",
   "metadata": {},
   "outputs": [],
   "source": [
    "sentiment = 'positive'\n",
    "\n",
    "train_data = get_training_data(sentiment)\n",
    "model_path = get_model_out_path(sentiment)\n",
    "# For DEmo Purposes I have taken 3 iterations you can train the model as you want\n",
    "train(train_data, model_path, n_iter=3, model=None)"
   ]
  },
  {
   "cell_type": "code",
   "execution_count": null,
   "id": "8963c155",
   "metadata": {},
   "outputs": [],
   "source": [
    "sentiment = 'negative'\n",
    "\n",
    "train_data = get_training_data(sentiment)\n",
    "model_path = get_model_out_path(sentiment)\n",
    "\n",
    "train(train_data, model_path, n_iter=3, model=None)"
   ]
  },
  {
   "cell_type": "code",
   "execution_count": null,
   "id": "bbc2dee9",
   "metadata": {},
   "outputs": [],
   "source": [
    "def predict_entities(text, model):\n",
    "    doc = model(text)\n",
    "    ent_array = []\n",
    "    for ent in doc.ents:\n",
    "    start = text.find(ent.text)\n",
    "    end = start + len(ent.text)\n",
    "    new_int = [start, end, ent.label_]\n",
    "    if new_int not in ent_array:\n",
    "    ent_array.append([start, end, ent.label_])\n",
    "    selected_text = text[ent_array[0][0]: ent_array[0][1]] if len(ent_array) > 0 else text\n",
    "    return selected_text"
   ]
  },
  {
   "cell_type": "code",
   "execution_count": null,
   "id": "aa8de3b6",
   "metadata": {},
   "outputs": [],
   "source": [
    "MODELS_BASE_PATH = '../input/tse-spacy-model/models/'\n",
    "\n",
    "if MODELS_BASE_PATH is not None:\n",
    "    print(\"Loading Models  from \", MODELS_BASE_PATH)\n",
    "    model_pos = spacy.load(MODELS_BASE_PATH + 'model_pos')\n",
    "    model_neg = spacy.load(MODELS_BASE_PATH + 'model_neg')\n",
    "\n",
    "    for index, row in df_test.iterrows():\n",
    "        text = row.text\n",
    "        output_str = \"\"\n",
    "        if row.sentiment == 'neutral' or len(text.split()) <= 2:\n",
    "        selected_texts.append(text)\n",
    "        elif row.sentiment == 'positive':\n",
    "        selected_texts.append(predict_entities(text, model_pos))\n",
    "        else:\n",
    "        selected_texts.append(predict_entities(text, model_neg))\n",
    "df_test['selected_text'] = selected_texts"
   ]
  },
  {
   "cell_type": "code",
   "execution_count": null,
   "id": "9289a4d9",
   "metadata": {},
   "outputs": [],
   "source": [
    "df_submission['selected_text'] = df_test['selected_text']\n",
    "df_submission.to_csv(\"submission.csv\", index=False)\n",
    "display(df_submission.head(10))"
   ]
  }
 ],
 "metadata": {
  "kernelspec": {
   "display_name": "Python 3 (ipykernel)",
   "language": "python",
   "name": "python3"
  },
  "language_info": {
   "codemirror_mode": {
    "name": "ipython",
    "version": 3
   },
   "file_extension": ".py",
   "mimetype": "text/x-python",
   "name": "python",
   "nbconvert_exporter": "python",
   "pygments_lexer": "ipython3",
   "version": "3.10.5"
  }
 },
 "nbformat": 4,
 "nbformat_minor": 5
}
